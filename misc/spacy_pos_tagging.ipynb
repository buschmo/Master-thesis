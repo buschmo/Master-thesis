{
 "cells": [
  {
   "cell_type": "code",
   "execution_count": 2,
   "metadata": {},
   "outputs": [],
   "source": [
    "from pathlib import Path\n",
    "import os\n",
    "# Switch to correct folder\n",
    "if not \"__path__\" in locals():\n",
    "    os.chdir(\"..\")\n",
    "    __path__ = Path().absolute()\n",
    "    \n",
    "import spacy\n",
    "from sklearn.feature_extraction.text import TfidfVectorizer, CountVectorizer\n",
    "import scipy\n",
    "from utils.dataset_conversion import get_lines\n",
    "import re\n",
    "import numpy as np\n",
    "import torch\n",
    "from tqdm import tqdm"
   ]
  },
  {
   "cell_type": "code",
   "execution_count": 7,
   "metadata": {},
   "outputs": [
    {
     "name": "stdout",
     "output_type": "stream",
     "text": [
      "Sie - PRON\n",
      "können - AUX\n",
      "den - DET\n",
      "Antrag - NOUN\n",
      "am - ADP\n",
      "Computer - NOUN\n",
      "erledigen - VERB\n",
      ". - PUNCT\n"
     ]
    }
   ],
   "source": [
    "s1 = \"Atomkraftwerksdirektorenzimmer\"\n",
    "s2 = \"Atom-Kraftwerks-Direktoren-Zimmer\"\n",
    "s3 = re.sub(r\"(\\w)-(\\w)\", r\"\\1\\2\", s2)\n",
    "\n",
    "nlp = spacy.load(\"de_core_news_lg\")\n",
    "# d1 = nlp(s1)\n",
    "# d2 = nlp(s2)\n",
    "# d3 = nlp(s3)\n",
    "\n",
    "# for doc in [d1,d2,d3]:\n",
    "#     for d in doc:\n",
    "#         print(f\"{d}\\n\\tLemma: {d.lemma_}\\n\\tPos: {d.pos_}\\n\\tTag: {d.tag_}\\n\\tDep: {d.dep_}\")\n",
    "\n",
    "d = nlp(\"Sie können den Antrag am Computer erledigen.\")\n",
    "for s in d:\n",
    "    print(f\"{s} - {s.pos_}\")"
   ]
  },
  {
   "cell_type": "code",
   "execution_count": 5,
   "metadata": {},
   "outputs": [],
   "source": [
    "path_easy = Path(\n",
    "    f\"data/SimpleWikipedia/WordPieceEasy128.pt\")\n",
    "path_normal = Path(\n",
    "    f\"data/SimpleWikipedia/WordPieceNormal128.pt\")\n",
    "path_attributes = Path(\n",
    "    \"data/SimpleWikipedia/attributes.pt\")\n",
    "\n",
    "path_easy = Path(\n",
    "    f\"data/SimpleGerman/WordPieceEasy128.pt\")\n",
    "path_normal = Path(\n",
    "    f\"data/SimpleGerman/WordPieceNormal128.pt\")\n",
    "path_attributes = Path(\n",
    "    \"data/SimpleGerman/attributes.pt\")\n",
    "\n",
    "t_easy = torch.load(path_easy).long()\n",
    "t_normal = torch.load(path_normal).long()\n",
    "\n",
    "embeddings = torch.cat(\n",
    "    [t_easy, t_normal])\n",
    "labels = torch.load(path_attributes)\n"
   ]
  },
  {
   "cell_type": "code",
   "execution_count": 6,
   "metadata": {},
   "outputs": [
    {
     "name": "stdout",
     "output_type": "stream",
     "text": [
      "torch.Size([59554, 5])\n",
      "torch.Size([59554, 128])\n"
     ]
    }
   ],
   "source": [
    "print(labels.shape)\n",
    "print(embeddings.shape)"
   ]
  }
 ],
 "metadata": {
  "kernelspec": {
   "display_name": "master",
   "language": "python",
   "name": "python3"
  },
  "language_info": {
   "codemirror_mode": {
    "name": "ipython",
    "version": 3
   },
   "file_extension": ".py",
   "mimetype": "text/x-python",
   "name": "python",
   "nbconvert_exporter": "python",
   "pygments_lexer": "ipython3",
   "version": "3.10.10"
  },
  "orig_nbformat": 4
 },
 "nbformat": 4,
 "nbformat_minor": 2
}
