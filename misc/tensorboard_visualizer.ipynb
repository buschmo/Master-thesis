{
 "cells": [
  {
   "cell_type": "code",
   "execution_count": 1,
   "metadata": {},
   "outputs": [],
   "source": [
    "from pathlib import Path\n",
    "import os\n",
    "import pandas as pd\n",
    "from matplotlib import pyplot as plt\n",
    "import numpy as np\n",
    "import pprint\n",
    "\n",
    "p = pprint.PrettyPrinter(indent=4)\n",
    "os.chdir(Path(os.environ[\"MASTER\"]))"
   ]
  },
  {
   "cell_type": "code",
   "execution_count": 13,
   "metadata": {},
   "outputs": [],
   "source": [
    "def merge(dfs):\n",
    "    dfs = [pd.read_csv(path, sep=\"\\t\", index_col=\"step\") for path in dfs]\n",
    "    mean = pd.concat(dfs).groupby(level=0).mean()\n",
    "    min = pd.concat(dfs).groupby(level=0).min()\n",
    "    max = pd.concat(dfs).groupby(level=0).max()\n",
    "    return mean,min,max\n",
    "\n",
    "tables = {\n",
    "    \"Regularization One layer\": [\"results/2023-02-11_Sentence_level/2023-02-11_13:10:37_TVAE_RegTrue.csv\",\n",
    "                                 \"results/2023-02-11_Sentence_level/2023-02-11_21:18:53_TVAE_RegTrue.csv\",\n",
    "                                 \"results/2023-02-11_Sentence_level/2023-02-11_13:10:58_TVAE_RegTrue.csv\"],\n",
    "    \"Regularization Two layers\": [\"results/2023-02-11_Sentence_level/2023-02-11_16:56:24_TVAE_RegTrue.csv\",\n",
    "                                  \"results/2023-02-11_Sentence_level/2023-02-12_01:04:35_TVAE_RegTrue.csv\",\n",
    "                                  \"results/2023-02-11_Sentence_level/2023-02-11_16:57:33_TVAE_RegTrue.csv\"],\n",
    "    \"No regularization One layer\": [\"results/2023-02-11_Sentence_level/2023-02-11_13:10:47_TVAE_RegFalse.csv\",\n",
    "                                    \"results/2023-02-11_Sentence_level/2023-02-11_21:19:22_TVAE_RegFalse.csv\",\n",
    "                                    \"results/2023-02-11_Sentence_level/2023-02-11_22:34:18_TVAE_RegFalse.csv\"],\n",
    "    \"No regularization Two layers\": [\"results/2023-02-11_Sentence_level/2023-02-11_16:56:35_TVAE_RegFalse.csv\",\n",
    "                                     \"results/2023-02-11_Sentence_level/2023-02-12_01:05:11_TVAE_RegFalse.csv\",\n",
    "                                     \"results/2023-02-11_Sentence_level/2023-02-12_02:20:30_TVAE_RegFalse.csv\"]\n",
    "}\n",
    "\n",
    "dfs = tables[\"Regularization One layer\"]\n",
    "mean, min,max = merge(dfs)\n"
   ]
  },
  {
   "cell_type": "code",
   "execution_count": null,
   "metadata": {},
   "outputs": [],
   "source": [
    "\n",
    "\n",
    "# p.pprint(list(d.keys()))\n",
    "for title in all_keys:\n",
    "    for key, value in d.items():\n",
    "        if \"RegTrue\" in key:\n",
    "            marker=\".\"\n",
    "        else:\n",
    "            marker=\"|\"\n",
    "        if \"Word_level\" in key:\n",
    "            color=\"red\"\n",
    "        else:\n",
    "            color=\"green\"\n",
    "        plt.plot(np.array(value[value[\"name\"] == title][\"value\"]), marker=marker, color=color)\n",
    "        plt.title(title)\n",
    "    plt.show()\n"
   ]
  }
 ],
 "metadata": {
  "kernelspec": {
   "display_name": "master",
   "language": "python",
   "name": "python3"
  },
  "language_info": {
   "codemirror_mode": {
    "name": "ipython",
    "version": 3
   },
   "file_extension": ".py",
   "mimetype": "text/x-python",
   "name": "python",
   "nbconvert_exporter": "python",
   "pygments_lexer": "ipython3",
   "version": "3.10.9"
  },
  "orig_nbformat": 4,
  "vscode": {
   "interpreter": {
    "hash": "6f140f8b3d41bfe26436db86396a4a983fe1f68caf3529c53ccd2c476030458a"
   }
  }
 },
 "nbformat": 4,
 "nbformat_minor": 2
}
