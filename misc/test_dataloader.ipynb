{
 "cells": [
  {
   "cell_type": "code",
   "execution_count": 1,
   "metadata": {},
   "outputs": [
    {
     "name": "stderr",
     "output_type": "stream",
     "text": [
      "2023-04-07 11:52:14.792664: I tensorflow/core/platform/cpu_feature_guard.cc:182] This TensorFlow binary is optimized to use available CPU instructions in performance-critical operations.\n",
      "To enable the following instructions: AVX2 FMA, in other operations, rebuild TensorFlow with the appropriate compiler flags.\n",
      "2023-04-07 11:52:15.341539: W tensorflow/compiler/tf2tensorrt/utils/py_utils.cc:38] TF-TRT Warning: Could not find TensorRT\n"
     ]
    }
   ],
   "source": [
    "import os\n",
    "from pathlib import Path\n",
    "if not \"__path__\" in locals():\n",
    "    __path__ = Path().absolute()\n",
    "    os.chdir(\"..\")\n",
    "import torch\n",
    "from utils.datasets import DatasetBERT, DatasetWordPiece\n",
    "from torch.utils.data import DataLoader"
   ]
  },
  {
   "cell_type": "code",
   "execution_count": 2,
   "metadata": {},
   "outputs": [
    {
     "name": "stdout",
     "output_type": "stream",
     "text": [
      "16589857704180454908\n"
     ]
    }
   ],
   "source": [
    "seed = torch.random.initial_seed()\n",
    "dataset= DatasetWordPiece(large=True, max_length=128)\n",
    "\n",
    "print(seed)"
   ]
  },
  {
   "cell_type": "code",
   "execution_count": 14,
   "metadata": {},
   "outputs": [],
   "source": [
    "batch_size=64\n",
    "if seed:\n",
    "    generator = torch.Generator()\n",
    "    generator.manual_seed(seed)\n",
    "\n",
    "dataset_train0, dataset_val0 = torch.utils.data.random_split(\n",
    "    dataset, [0.8, 0.2], generator=generator\n",
    ")\n",
    "\n",
    "generator_train0 = DataLoader(dataset_train0, batch_size=batch_size)\n",
    "generator_val0 = DataLoader(dataset_val0, batch_size=batch_size)\n",
    "\n",
    "if seed and input(\"Same seed?\") in [\"y\", \"Y\"]:\n",
    "    generator = torch.Generator()\n",
    "    generator.manual_seed(seed)\n",
    "\n",
    "dataset_train1, dataset_val1 = torch.utils.data.random_split(\n",
    "    dataset, [0.8, 0.2], generator=generator\n",
    ")\n",
    "\n",
    "generator_train1 = DataLoader(dataset_train1, batch_size=batch_size)\n",
    "generator_val1 = DataLoader(dataset_val1, batch_size=batch_size)\n",
    "\n"
   ]
  },
  {
   "cell_type": "code",
   "execution_count": 16,
   "metadata": {},
   "outputs": [
    {
     "name": "stdout",
     "output_type": "stream",
     "text": [
      "same: 0, some: 0, none: 4185\n"
     ]
    }
   ],
   "source": [
    "same = 0\n",
    "some = 0\n",
    "none = 0\n",
    "for (x0,y0),(x1,y1) in zip(generator_train0,generator_train1):\n",
    "    if (x0==x1).all():\n",
    "        same+=1\n",
    "    elif (x0!=x1).all():\n",
    "        none+=1\n",
    "    else:\n",
    "        some+=1\n",
    "print(f\"same: {same}, some: {some}, none: {none}\")"
   ]
  },
  {
   "cell_type": "code",
   "execution_count": null,
   "metadata": {},
   "outputs": [],
   "source": [
    "gen = torch.default_generator\n",
    "\n",
    "gen.initial_seed()"
   ]
  }
 ],
 "metadata": {
  "kernelspec": {
   "display_name": "master",
   "language": "python",
   "name": "python3"
  },
  "language_info": {
   "codemirror_mode": {
    "name": "ipython",
    "version": 3
   },
   "file_extension": ".py",
   "mimetype": "text/x-python",
   "name": "python",
   "nbconvert_exporter": "python",
   "pygments_lexer": "ipython3",
   "version": "3.10.10"
  },
  "orig_nbformat": 4
 },
 "nbformat": 4,
 "nbformat_minor": 2
}
