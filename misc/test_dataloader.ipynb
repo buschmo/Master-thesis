{
 "cells": [
  {
   "cell_type": "code",
   "execution_count": 1,
   "metadata": {},
   "outputs": [
    {
     "name": "stdout",
     "output_type": "stream",
     "text": [
      "/home/busch/repos/Master-thesis/misc\n",
      "/home/busch/repos/Master-thesis\n",
      "/home/busch/repos/Master-thesis/misc\n"
     ]
    },
    {
     "name": "stderr",
     "output_type": "stream",
     "text": [
      "2023-04-07 11:29:58.789616: I tensorflow/core/platform/cpu_feature_guard.cc:182] This TensorFlow binary is optimized to use available CPU instructions in performance-critical operations.\n",
      "To enable the following instructions: AVX2 FMA, in other operations, rebuild TensorFlow with the appropriate compiler flags.\n",
      "2023-04-07 11:29:59.326645: W tensorflow/compiler/tf2tensorrt/utils/py_utils.cc:38] TF-TRT Warning: Could not find TensorRT\n"
     ]
    }
   ],
   "source": [
    "import os\n",
    "from pathlib import Path\n",
    "if not \"__path__\" in locals():\n",
    "    __path__ = Path().absolute()\n",
    "    os.chdir(\"..\")\n",
    "import torch\n",
    "from utils.datasets import DatasetBERT, DatasetWordPiece\n",
    "from torch.utils.data import DataLoader"
   ]
  },
  {
   "cell_type": "code",
   "execution_count": 5,
   "metadata": {},
   "outputs": [
    {
     "name": "stderr",
     "output_type": "stream",
     "text": [
      "Easy SimpleGermanCorpus128: 0it [00:00, ?it/s]\n"
     ]
    },
    {
     "ename": "FileNotFoundError",
     "evalue": "[Errno 2] No such file or directory: 'data/SimpleGerman/fixed_easy.txt'",
     "output_type": "error",
     "traceback": [
      "\u001b[0;31m---------------------------------------------------------------------------\u001b[0m",
      "\u001b[0;31mFileNotFoundError\u001b[0m                         Traceback (most recent call last)",
      "Cell \u001b[0;32mIn[5], line 2\u001b[0m\n\u001b[1;32m      1\u001b[0m seed \u001b[39m=\u001b[39m torch\u001b[39m.\u001b[39mrandom\u001b[39m.\u001b[39minitial_seed()\n\u001b[0;32m----> 2\u001b[0m dataset\u001b[39m=\u001b[39m DatasetWordPiece(large\u001b[39m=\u001b[39;49m\u001b[39mFalse\u001b[39;49;00m, max_length\u001b[39m=\u001b[39;49m\u001b[39m128\u001b[39;49m)\n\u001b[1;32m      4\u001b[0m \u001b[39mprint\u001b[39m(seed)\n",
      "File \u001b[0;32m~/repos/Master-thesis/utils/datasets.py:138\u001b[0m, in \u001b[0;36mDatasetWordPiece.__init__\u001b[0;34m(self, large, max_length)\u001b[0m\n\u001b[1;32m    135\u001b[0m \u001b[39mself\u001b[39m\u001b[39m.\u001b[39mCLS, \u001b[39mself\u001b[39m\u001b[39m.\u001b[39mPAD, \u001b[39mself\u001b[39m\u001b[39m.\u001b[39mSEP \u001b[39m=\u001b[39m \u001b[39mself\u001b[39m\u001b[39m.\u001b[39mtokenizer\u001b[39m.\u001b[39mencode(\u001b[39m\"\u001b[39m\u001b[39m[PAD]\u001b[39m\u001b[39m\"\u001b[39m)\n\u001b[1;32m    137\u001b[0m \u001b[39mif\u001b[39;00m \u001b[39mnot\u001b[39;00m \u001b[39mself\u001b[39m\u001b[39m.\u001b[39mpath_easy\u001b[39m.\u001b[39mexists() \u001b[39mor\u001b[39;00m \u001b[39mnot\u001b[39;00m \u001b[39mself\u001b[39m\u001b[39m.\u001b[39mpath_normal\u001b[39m.\u001b[39mexists():\n\u001b[0;32m--> 138\u001b[0m     \u001b[39mself\u001b[39;49m\u001b[39m.\u001b[39;49mcreateDataset()\n\u001b[1;32m    139\u001b[0m t_easy \u001b[39m=\u001b[39m torch\u001b[39m.\u001b[39mload(\u001b[39mself\u001b[39m\u001b[39m.\u001b[39mpath_easy)\u001b[39m.\u001b[39mlong()\n\u001b[1;32m    140\u001b[0m t_normal \u001b[39m=\u001b[39m torch\u001b[39m.\u001b[39mload(\u001b[39mself\u001b[39m\u001b[39m.\u001b[39mpath_normal)\u001b[39m.\u001b[39mlong()\n",
      "File \u001b[0;32m~/repos/Master-thesis/utils/datasets.py:167\u001b[0m, in \u001b[0;36mDatasetWordPiece.createDataset\u001b[0;34m(self)\u001b[0m\n\u001b[1;32m    165\u001b[0m \u001b[39mif\u001b[39;00m \u001b[39mnot\u001b[39;00m \u001b[39mself\u001b[39m\u001b[39m.\u001b[39mpath_easy\u001b[39m.\u001b[39mexists():\n\u001b[1;32m    166\u001b[0m     g1 \u001b[39m=\u001b[39m generator(\u001b[39mself\u001b[39m\u001b[39m.\u001b[39mpath_easy_input)\n\u001b[0;32m--> 167\u001b[0m     easy_embeddings \u001b[39m=\u001b[39m [i \u001b[39mfor\u001b[39;00m i \u001b[39min\u001b[39;00m tqdm(g1, desc\u001b[39m=\u001b[39m\u001b[39mf\u001b[39m\u001b[39m\"\u001b[39m\u001b[39mEasy \u001b[39m\u001b[39m{\u001b[39;00m\u001b[39mself\u001b[39m\u001b[39m}\u001b[39;00m\u001b[39m\"\u001b[39m)]\n\u001b[1;32m    168\u001b[0m     t \u001b[39m=\u001b[39m torch\u001b[39m.\u001b[39mIntTensor(easy_embeddings)\n\u001b[1;32m    169\u001b[0m     torch\u001b[39m.\u001b[39msave(t, \u001b[39mself\u001b[39m\u001b[39m.\u001b[39mpath_easy)\n",
      "File \u001b[0;32m~/repos/Master-thesis/utils/datasets.py:167\u001b[0m, in \u001b[0;36m<listcomp>\u001b[0;34m(.0)\u001b[0m\n\u001b[1;32m    165\u001b[0m \u001b[39mif\u001b[39;00m \u001b[39mnot\u001b[39;00m \u001b[39mself\u001b[39m\u001b[39m.\u001b[39mpath_easy\u001b[39m.\u001b[39mexists():\n\u001b[1;32m    166\u001b[0m     g1 \u001b[39m=\u001b[39m generator(\u001b[39mself\u001b[39m\u001b[39m.\u001b[39mpath_easy_input)\n\u001b[0;32m--> 167\u001b[0m     easy_embeddings \u001b[39m=\u001b[39m [i \u001b[39mfor\u001b[39;00m i \u001b[39min\u001b[39;00m tqdm(g1, desc\u001b[39m=\u001b[39m\u001b[39mf\u001b[39m\u001b[39m\"\u001b[39m\u001b[39mEasy \u001b[39m\u001b[39m{\u001b[39;00m\u001b[39mself\u001b[39m\u001b[39m}\u001b[39;00m\u001b[39m\"\u001b[39m)]\n\u001b[1;32m    168\u001b[0m     t \u001b[39m=\u001b[39m torch\u001b[39m.\u001b[39mIntTensor(easy_embeddings)\n\u001b[1;32m    169\u001b[0m     torch\u001b[39m.\u001b[39msave(t, \u001b[39mself\u001b[39m\u001b[39m.\u001b[39mpath_easy)\n",
      "File \u001b[0;32m~/.envs/master/lib/python3.10/site-packages/tqdm/std.py:1178\u001b[0m, in \u001b[0;36mtqdm.__iter__\u001b[0;34m(self)\u001b[0m\n\u001b[1;32m   1175\u001b[0m time \u001b[39m=\u001b[39m \u001b[39mself\u001b[39m\u001b[39m.\u001b[39m_time\n\u001b[1;32m   1177\u001b[0m \u001b[39mtry\u001b[39;00m:\n\u001b[0;32m-> 1178\u001b[0m     \u001b[39mfor\u001b[39;00m obj \u001b[39min\u001b[39;00m iterable:\n\u001b[1;32m   1179\u001b[0m         \u001b[39myield\u001b[39;00m obj\n\u001b[1;32m   1180\u001b[0m         \u001b[39m# Update and possibly print the progressbar.\u001b[39;00m\n\u001b[1;32m   1181\u001b[0m         \u001b[39m# Note: does not call self.update(1) for speed optimisation.\u001b[39;00m\n",
      "File \u001b[0;32m~/repos/Master-thesis/utils/datasets.py:154\u001b[0m, in \u001b[0;36mDatasetWordPiece.createDataset.<locals>.generator\u001b[0;34m(file)\u001b[0m\n\u001b[1;32m    153\u001b[0m \u001b[39mdef\u001b[39;00m \u001b[39mgenerator\u001b[39m(file):\n\u001b[0;32m--> 154\u001b[0m     \u001b[39mwith\u001b[39;00m \u001b[39mopen\u001b[39;49m(file) \u001b[39mas\u001b[39;00m fp:\n\u001b[1;32m    155\u001b[0m         \u001b[39mif\u001b[39;00m \u001b[39mself\u001b[39m\u001b[39m.\u001b[39mlarge:\n\u001b[1;32m    156\u001b[0m             lines \u001b[39m=\u001b[39m [i\u001b[39m.\u001b[39msplit(\u001b[39m\"\u001b[39m\u001b[39m\\t\u001b[39;00m\u001b[39m\"\u001b[39m)[\u001b[39m-\u001b[39m\u001b[39m1\u001b[39m]\u001b[39m.\u001b[39mstrip() \u001b[39mfor\u001b[39;00m i \u001b[39min\u001b[39;00m fp\u001b[39m.\u001b[39mreadlines()]\n",
      "\u001b[0;31mFileNotFoundError\u001b[0m: [Errno 2] No such file or directory: 'data/SimpleGerman/fixed_easy.txt'"
     ]
    }
   ],
   "source": [
    "seed = torch.random.initial_seed()\n",
    "dataset= DatasetWordPiece(large=False, max_length=128)\n",
    "\n",
    "print(seed)"
   ]
  },
  {
   "cell_type": "code",
   "execution_count": 15,
   "metadata": {},
   "outputs": [],
   "source": [
    "batch_size=64\n",
    "if seed:\n",
    "    generator = torch.Generator()\n",
    "    generator.manual_seed(seed)\n",
    "\n",
    "dataset_train0, dataset_val0 = torch.utils.data.random_split(\n",
    "    dataset, [0.8, 0.2], generator=generator\n",
    ")\n",
    "\n",
    "generator_train0 = DataLoader(dataset_train0, batch_size=batch_size)\n",
    "generator_val0 = DataLoader(dataset_val0, batch_size=batch_size)\n",
    "\n",
    "if seed and input(\"Same seed?\") in [\"y\", \"Y\"]:\n",
    "    generator = torch.Generator()\n",
    "    generator.manual_seed(seed)\n",
    "\n",
    "dataset_train1, dataset_val1 = torch.utils.data.random_split(\n",
    "    dataset, [0.8, 0.2], generator=generator\n",
    ")\n",
    "\n",
    "generator_train1 = DataLoader(dataset_train1, batch_size=batch_size)\n",
    "generator_val1 = DataLoader(dataset_val1, batch_size=batch_size)\n",
    "\n"
   ]
  },
  {
   "cell_type": "code",
   "execution_count": 1,
   "metadata": {},
   "outputs": [
    {
     "ename": "NameError",
     "evalue": "name 'generator_train0' is not defined",
     "output_type": "error",
     "traceback": [
      "\u001b[0;31m---------------------------------------------------------------------------\u001b[0m",
      "\u001b[0;31mNameError\u001b[0m                                 Traceback (most recent call last)",
      "Cell \u001b[0;32mIn[1], line 4\u001b[0m\n\u001b[1;32m      2\u001b[0m some \u001b[39m=\u001b[39m \u001b[39m0\u001b[39m\n\u001b[1;32m      3\u001b[0m none \u001b[39m=\u001b[39m \u001b[39m0\u001b[39m\n\u001b[0;32m----> 4\u001b[0m \u001b[39mfor\u001b[39;00m (x0,y0),(x1,y1) \u001b[39min\u001b[39;00m \u001b[39mzip\u001b[39m(generator_train0,generator_train1):\n\u001b[1;32m      5\u001b[0m     \u001b[39mif\u001b[39;00m (x0\u001b[39m==\u001b[39mx1)\u001b[39m.\u001b[39mall() \u001b[39mor\u001b[39;00m (y0\u001b[39m==\u001b[39my1)\u001b[39m.\u001b[39mall():\n\u001b[1;32m      6\u001b[0m         same\u001b[39m+\u001b[39m\u001b[39m=\u001b[39m\u001b[39m1\u001b[39m\n",
      "\u001b[0;31mNameError\u001b[0m: name 'generator_train0' is not defined"
     ]
    }
   ],
   "source": [
    "same = 0\n",
    "some = 0\n",
    "none = 0\n",
    "for (x0,y0),(x1,y1) in zip(generator_train0,generator_train1):\n",
    "    if (x0==x1).all() or (y0==y1).all():\n",
    "        same+=1\n",
    "    elif (x0!=x1).all() or (y0!=y1).all():\n",
    "        none+=1\n",
    "    else:\n",
    "        some+=1\n",
    "print(f\"same: {same}, some: {some}, none: {none}\")"
   ]
  },
  {
   "cell_type": "code",
   "execution_count": null,
   "metadata": {},
   "outputs": [],
   "source": [
    "gen = torch.default_generator\n",
    "\n",
    "gen.initial_seed()"
   ]
  }
 ],
 "metadata": {
  "kernelspec": {
   "display_name": "master",
   "language": "python",
   "name": "python3"
  },
  "language_info": {
   "codemirror_mode": {
    "name": "ipython",
    "version": 3
   },
   "file_extension": ".py",
   "mimetype": "text/x-python",
   "name": "python",
   "nbconvert_exporter": "python",
   "pygments_lexer": "ipython3",
   "version": "3.10.10"
  },
  "orig_nbformat": 4
 },
 "nbformat": 4,
 "nbformat_minor": 2
}
