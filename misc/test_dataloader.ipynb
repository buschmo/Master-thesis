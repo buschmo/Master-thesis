{
 "cells": [
  {
   "cell_type": "code",
   "execution_count": 2,
   "metadata": {},
   "outputs": [],
   "source": [
    "import torch\n",
    "from utils.datasets import DatasetBERT, DatasetWordPiece\n",
    "from torch.utils.data import DataLoader"
   ]
  },
  {
   "cell_type": "code",
   "execution_count": 3,
   "metadata": {},
   "outputs": [
    {
     "name": "stdout",
     "output_type": "stream",
     "text": [
      "4937488914978883879\n"
     ]
    }
   ],
   "source": [
    "seed = torch.random.initial_seed()\n",
    "dataset= DatasetWordPiece(large=False, max_length=128)\n",
    "\n",
    "print(seed)"
   ]
  },
  {
   "cell_type": "code",
   "execution_count": 59,
   "metadata": {},
   "outputs": [],
   "source": [
    "batch_size=64\n",
    "if seed:\n",
    "    generator = torch.Generator()\n",
    "    generator.manual_seed(seed)\n",
    "\n",
    "dataset_train0, dataset_val0 = torch.utils.data.random_split(\n",
    "    dataset, [0.8, 0.2], generator=generator\n",
    ")\n",
    "\n",
    "generator_train0 = DataLoader(dataset_train0, batch_size=batch_size)\n",
    "generator_val0 = DataLoader(dataset_val0, batch_size=batch_size)\n",
    "\n",
    "if seed:\n",
    "    generator = torch.Generator()\n",
    "    generator.manual_seed(seed)\n",
    "\n",
    "dataset_train1, dataset_val1 = torch.utils.data.random_split(\n",
    "    dataset, [0.8, 0.2], generator=generator\n",
    ")\n",
    "\n",
    "generator_train1 = DataLoader(dataset_train1, batch_size=batch_size)\n",
    "generator_val1 = DataLoader(dataset_val1, batch_size=batch_size)\n",
    "\n"
   ]
  },
  {
   "cell_type": "code",
   "execution_count": 60,
   "metadata": {},
   "outputs": [],
   "source": [
    "for (x0,y0),(x1,y1) in zip(generator_train0,generator_train1):\n",
    "    if (x0!=x1).any() or (y0!=y1).any():\n",
    "        print(\"Ayoo\")"
   ]
  },
  {
   "cell_type": "code",
   "execution_count": 68,
   "metadata": {},
   "outputs": [
    {
     "data": {
      "text/plain": [
       "7319063606455297984"
      ]
     },
     "execution_count": 68,
     "metadata": {},
     "output_type": "execute_result"
    }
   ],
   "source": [
    "gen = torch.default_generator\n",
    "\n",
    "gen.initial_seed()"
   ]
  }
 ],
 "metadata": {
  "kernelspec": {
   "display_name": "master",
   "language": "python",
   "name": "python3"
  },
  "language_info": {
   "codemirror_mode": {
    "name": "ipython",
    "version": 3
   },
   "file_extension": ".py",
   "mimetype": "text/x-python",
   "name": "python",
   "nbconvert_exporter": "python",
   "pygments_lexer": "ipython3",
   "version": "3.10.10"
  },
  "orig_nbformat": 4
 },
 "nbformat": 4,
 "nbformat_minor": 2
}
