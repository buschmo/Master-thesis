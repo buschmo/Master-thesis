{
 "cells": [
  {
   "cell_type": "code",
   "execution_count": 1,
   "metadata": {},
   "outputs": [
    {
     "name": "stdout",
     "output_type": "stream",
     "text": [
      "True\n",
      "1.13.0+cu117\n"
     ]
    }
   ],
   "source": [
    "import numpy as np\n",
    "import torch\n",
    "import pandas as pd\n",
    "from tqdm import tqdm\n",
    "from transformers import BertModel, BertTokenizer, BertForMaskedLM, pipeline\n",
    "from sentence_transformers import SentenceTransformer, util\n",
    "from transformers import logging\n",
    "logging.set_verbosity_error()\n",
    "\n",
    "print(torch.cuda.is_available())\n",
    "print(torch.__version__)\n",
    "\n",
    "import os\n",
    "from pathlib import Path\n",
    "os.chdir(Path(os.environ[\"ALTHOME\"]) / \"Master-thesis\")"
   ]
  },
  {
   "cell_type": "code",
   "execution_count": 2,
   "metadata": {},
   "outputs": [],
   "source": [
    "l = [\"Ä\",\"ä\",\"Ö\",\"ö\",\"Ü\",\"ü\",\"ß\"]\n",
    "replacements = {key: str(bytes(key, encoding=\"utf-8\"), encoding=\"latin-1\") for key in l}\n",
    "\n",
    "def replace(s):\n",
    "    for k,v in replacements.items():\n",
    "        s = s.replace(v, k)\n",
    "    return s\n",
    "\n",
    "if False:\n",
    "    with open(\"data/SimpleGerman/spacy_easy.txt\") as fp:\n",
    "        text = fp.read()\n",
    "    text = replace(text)\n",
    "    with open(\"data/SimpleGerman/fixed_easy.txt\", \"w\") as fp:\n",
    "        fp.write(text)\n",
    "    with open(\"data/SimpleGerman/spacy_normal.txt\") as fp:\n",
    "        text = fp.read()\n",
    "    text = replace(text)\n",
    "    with open(\"data/SimpleGerman/fixed_normal.txt\", \"w\") as fp:\n",
    "        fp.write(text)"
   ]
  },
  {
   "cell_type": "code",
   "execution_count": 3,
   "metadata": {},
   "outputs": [],
   "source": [
    "model_name = \"dbmdz/bert-base-german-cased\"\n",
    "model_name = \"deepset/gbert-base\"\n",
    "sentence = \"Dies ist ein Satz\"\n",
    "model_name = \"deepset/gbert-base\"\n",
    "\n",
    "pipe  = pipeline(model=model_name, tokenizer=model_name, task=\"feature-extraction\")\n",
    "model_encode = BertModel.from_pretrained(model_name)\n",
    "model_decode = BertModel.from_pretrained(model_name, is_decoder=True, add_cross_attention=True)\n",
    "model_LM = BertForMaskedLM.from_pretrained(model_name)\n",
    "tokenizer = BertTokenizer.from_pretrained(model_name)\n"
   ]
  },
  {
   "cell_type": "code",
   "execution_count": 4,
   "metadata": {},
   "outputs": [
    {
     "name": "stdout",
     "output_type": "stream",
     "text": [
      "True\n",
      "True\n",
      "<class 'numpy.ndarray'> - (1, 6, 768)\n",
      "<class 'numpy.ndarray'> - (1, 6, 768)\n",
      "<class 'numpy.ndarray'> - (1, 6, 768)\n"
     ]
    }
   ],
   "source": [
    "tokens = tokenizer.encode(sentence, return_tensors=\"pt\")\n",
    "output = model_encode.forward(tokens, output_hidden_states=True)\n",
    "output_pipe = pipe(sentence)\n",
    "\n",
    "a = output.hidden_states[-1].detach().numpy() # same as pipeline feature extraction\n",
    "c = output.last_hidden_state.detach().numpy()\n",
    "b = np.array(output_pipe)\n",
    "\n",
    "print((a == b).all())\n",
    "print((a == c).all())\n",
    "print(f\"{type(a)} - {a.shape}\")\n",
    "print(f\"{type(b)} - {b.shape}\")\n",
    "print(f\"{type(c)} - {c.shape}\")\n"
   ]
  },
  {
   "cell_type": "code",
   "execution_count": 5,
   "metadata": {},
   "outputs": [
    {
     "name": "stdout",
     "output_type": "stream",
     "text": [
      "torch.Size([1, 6, 768])\n",
      "torch.Size([1, 768])\n",
      "odict_keys(['last_hidden_state', 'pooler_output'])\n",
      "odict_keys(['logits', 'hidden_states'])\n",
      "tensor([[[True, True, True,  ..., True, True, True],\n",
      "         [True, True, True,  ..., True, True, True],\n",
      "         [True, True, True,  ..., True, True, True],\n",
      "         [True, True, True,  ..., True, True, True],\n",
      "         [True, True, True,  ..., True, True, True],\n",
      "         [True, True, True,  ..., True, True, True]]])\n"
     ]
    }
   ],
   "source": [
    "tokenizer = BertTokenizer.from_pretrained(model_name)\n",
    "tokens = tokenizer.encode(sentence, return_tensors=\"pt\")\n",
    "output_encode = model_encode.forward(tokens)\n",
    "output_LM = model_LM(tokens, output_hidden_states=True)\n",
    "\n",
    "\n",
    "print(output_encode.last_hidden_state.size())\n",
    "print(output_encode.pooler_output.size())\n",
    "print(output_encode.keys())\n",
    "print(output_LM.keys())\n",
    "print((output_encode.last_hidden_state == output_LM.hidden_states[-1]))"
   ]
  }
 ],
 "metadata": {
  "kernelspec": {
   "display_name": "master",
   "language": "python",
   "name": "python3"
  },
  "language_info": {
   "codemirror_mode": {
    "name": "ipython",
    "version": 3
   },
   "file_extension": ".py",
   "mimetype": "text/x-python",
   "name": "python",
   "nbconvert_exporter": "python",
   "pygments_lexer": "ipython3",
   "version": "3.10.6"
  },
  "orig_nbformat": 4,
  "vscode": {
   "interpreter": {
    "hash": "b52a59b75e5ddc235e8ae75c6f232f2b835bf44cfac57e20d283db7df608e2c3"
   }
  }
 },
 "nbformat": 4,
 "nbformat_minor": 2
}
