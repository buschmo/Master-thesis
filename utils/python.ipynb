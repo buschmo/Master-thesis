{
 "cells": [
  {
   "cell_type": "code",
   "execution_count": 2,
   "metadata": {},
   "outputs": [
    {
     "name": "stdout",
     "output_type": "stream",
     "text": [
      "True\n",
      "1.13.0+cu117\n"
     ]
    }
   ],
   "source": [
    "import numpy as np\n",
    "import torch\n",
    "import pandas as pd\n",
    "from tqdm import tqdm\n",
    "from transformers import BertModel, BertTokenizer, BertForMaskedLM, pipeline\n",
    "from sentence_transformers import SentenceTransformer, util\n",
    "from transformers import logging\n",
    "logging.set_verbosity_error()\n",
    "\n",
    "print(torch.cuda.is_available())\n",
    "print(torch.__version__)\n",
    "\n",
    "import os\n",
    "from pathlib import Path\n",
    "os.chdir(Path(os.environ[\"ALTHOME\"]) / \"Master-thesis\")\n",
    "# print(os.environ['ALTHOME'])\n",
    "# print(os.environ['PIP_CACHE_DIR'])\n",
    "# print(os.environ['TRANSFORMERS_CACHE'])"
   ]
  },
  {
   "cell_type": "code",
   "execution_count": 3,
   "metadata": {},
   "outputs": [],
   "source": [
    "l = [\"Ä\",\"ä\",\"Ö\",\"ö\",\"Ü\",\"ü\",\"ß\"]\n",
    "replacements = {key: str(bytes(key, encoding=\"utf-8\"), encoding=\"latin-1\") for key in l}\n",
    "\n",
    "def replace(s):\n",
    "    for k,v in replacements.items():\n",
    "        s = s.replace(v, k)\n",
    "    return s\n",
    "\n",
    "if False:\n",
    "    with open(\"data/SimpleGerman/spacy_easy.txt\") as fp:\n",
    "        text = fp.read()\n",
    "    text = replace(text)\n",
    "    with open(\"data/SimpleGerman/fixed_easy.txt\", \"w\") as fp:\n",
    "        fp.write(text)\n",
    "    with open(\"data/SimpleGerman/spacy_normal.txt\") as fp:\n",
    "        text = fp.read()\n",
    "    text = replace(text)\n",
    "    with open(\"data/SimpleGerman/fixed_normal.txt\", \"w\") as fp:\n",
    "        fp.write(text)"
   ]
  },
  {
   "cell_type": "code",
   "execution_count": 4,
   "metadata": {},
   "outputs": [],
   "source": [
    "model_name = \"dbmdz/bert-base-german-cased\"\n",
    "model_name = \"deepset/gbert-base\"\n",
    "pipe  = pipeline(model=model_name, tokenizer=model_name, task=\"feature-extraction\")"
   ]
  },
  {
   "cell_type": "code",
   "execution_count": 5,
   "metadata": {},
   "outputs": [
    {
     "name": "stdout",
     "output_type": "stream",
     "text": [
      "True\n",
      "True\n",
      "<class 'numpy.ndarray'> - (1, 6, 768)\n",
      "<class 'numpy.ndarray'> - (1, 6, 768)\n",
      "<class 'numpy.ndarray'> - (1, 6, 768)\n",
      "[[[-7.19576180e-01 -5.80246687e-01  5.33426665e-02 ... -1.22093451e+00\n",
      "   -2.47317970e-01  1.05262408e-03]\n",
      "  [-3.05296212e-01 -1.76625597e+00 -8.15026835e-02 ... -1.57253847e-01\n",
      "    3.35350335e-02  2.63795793e-01]\n",
      "  [ 2.71064460e-01  3.99326533e-01  5.00104278e-02 ... -6.03571236e-01\n",
      "    2.70808160e-01 -9.88669991e-01]\n",
      "  [-1.99700069e+00  8.68344784e-01 -3.31405461e-01 ... -1.72403836e+00\n",
      "    9.63193104e-02 -1.04005468e+00]\n",
      "  [-1.63929546e+00 -4.86749291e-01  1.62597030e-01 ... -8.14551473e-01\n",
      "    5.09356298e-02 -9.36067760e-01]\n",
      "  [-1.37479246e-01  6.05183095e-02 -5.09228706e-01 ...  6.99507177e-01\n",
      "    5.57994843e-01 -2.54207134e-01]]]\n"
     ]
    }
   ],
   "source": [
    "from transformers import BertModel, BertTokenizer\n",
    "sentence = \"Dies ist eine Satz\"\n",
    "model_name = \"deepset/gbert-base\"\n",
    "model = BertModel.from_pretrained(model_name)\n",
    "tokenizer = BertTokenizer.from_pretrained(model_name)\n",
    "tokens = tokenizer.encode(sentence, return_tensors=\"pt\")\n",
    "output = model.forward(tokens, output_hidden_states=True)\n",
    "output_pipe = pipe(sentence)\n",
    "\n",
    "a = output.hidden_states[-1].detach().numpy() # same as pipeline feature extraction\n",
    "c = output.last_hidden_state.detach().numpy()\n",
    "b = np.array(output_pipe)\n",
    "\n",
    "print((a == b).all())\n",
    "print((a == c).all())\n",
    "print(f\"{type(a)} - {a.shape}\")\n",
    "print(f\"{type(b)} - {b.shape}\")\n",
    "print(f\"{type(c)} - {c.shape}\")\n",
    "print(b)\n"
   ]
  }
 ],
 "metadata": {
  "kernelspec": {
   "display_name": "master",
   "language": "python",
   "name": "python3"
  },
  "language_info": {
   "codemirror_mode": {
    "name": "ipython",
    "version": 3
   },
   "file_extension": ".py",
   "mimetype": "text/x-python",
   "name": "python",
   "nbconvert_exporter": "python",
   "pygments_lexer": "ipython3",
   "version": "3.10.6"
  },
  "orig_nbformat": 4,
  "vscode": {
   "interpreter": {
    "hash": "b52a59b75e5ddc235e8ae75c6f232f2b835bf44cfac57e20d283db7df608e2c3"
   }
  }
 },
 "nbformat": 4,
 "nbformat_minor": 2
}
