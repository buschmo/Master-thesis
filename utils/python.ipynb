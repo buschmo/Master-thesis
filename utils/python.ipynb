{
 "cells": [
  {
   "cell_type": "code",
   "execution_count": null,
   "metadata": {},
   "outputs": [],
   "source": [
    "import numpy as np\n",
    "import torch\n",
    "import pandas as pd\n",
    "from tqdm import tqdm\n",
    "from transformers import BertModel, BertTokenizer, BertForMaskedLM, pipeline\n",
    "from sentence_transformers import SentenceTransformer, util\n",
    "from transformers import logging\n",
    "logging.set_verbosity_error()\n",
    "\n",
    "print(torch.cuda.is_available())\n",
    "print(torch.__version__)\n",
    "\n",
    "import os\n",
    "from pathlib import Path\n",
    "os.chdir(Path(os.environ[\"ALTHOME\"]) / \"Master-thesis\")\n",
    "# print(os.environ['ALTHOME'])\n",
    "# print(os.environ['PIP_CACHE_DIR'])\n",
    "# print(os.environ['TRANSFORMERS_CACHE'])"
   ]
  },
  {
   "cell_type": "code",
   "execution_count": null,
   "metadata": {},
   "outputs": [],
   "source": [
    "l = [\"Ä\",\"ä\",\"Ö\",\"ö\",\"Ü\",\"ü\",\"ß\"]\n",
    "replacements = {key: str(bytes(key, encoding=\"utf-8\"), encoding=\"latin-1\") for key in l}\n",
    "\n",
    "def replace(s):\n",
    "    for k,v in replacements.items():\n",
    "        s = s.replace(v, k)\n",
    "    return s\n",
    "\n",
    "with open(\"data/spacy_easy.txt\") as fp:\n",
    "    text = fp.read()\n",
    "text = replace(text)\n",
    "with open(\"data/fixed_easy.txt\", \"w\") as fp:\n",
    "    fp.write(text)\n",
    "with open(\"data/spacy_normal.txt\") as fp:\n",
    "    text = fp.read()\n",
    "text = replace(text)\n",
    "with open(\"data/fixed_normal.txt\", \"w\") as fp:\n",
    "    fp.write(text)"
   ]
  },
  {
   "cell_type": "code",
   "execution_count": null,
   "metadata": {},
   "outputs": [],
   "source": [
    "model_name = \"dbmdz/bert-base-german-cased\"\n",
    "model_name = \"deepset/gbert-base\"\n",
    "pipe  = pipeline(model=model_name, tokenizer=model_name, task=\"feature-extraction\")"
   ]
  },
  {
   "cell_type": "code",
   "execution_count": null,
   "metadata": {},
   "outputs": [],
   "source": [
    "with open(\"data/fixed_easy.txt\") as fp:\n",
    "    lines = [i.strip() for i in fp.readlines()]\n",
    "    print(len(lines))\n",
    "    # output = pipe(lines)\n",
    "    \n",
    "\n",
    "with open(\"data/fixed_normal.txt\") as fp:\n",
    "    lines = [i.strip() for i in fp.readlines()]\n"
   ]
  },
  {
   "cell_type": "code",
   "execution_count": null,
   "metadata": {},
   "outputs": [],
   "source": [
    "from transformers import BertModel, BertTokenizer\n",
    "sentence = \"Dies ist eine Satz\"\n",
    "model_name = \"deepset/gbert-base\"\n",
    "model = BertModel.from_pretrained(model_name)\n",
    "tokenizer = BertTokenizer.from_pretrained(model_name)\n",
    "tokens = tokenizer.encode(sentence, return_tensors=\"pt\")\n",
    "output = model.forward(tokens, output_hidden_states=True)\n",
    "output_pipe = pipe(sentence)\n",
    "\n",
    "a = output.hidden_states[-1].detach().numpy() # same as pipeline feature extraction\n",
    "c = output.last_hidden_state.detach().numpy()\n",
    "b = np.array(output_pipe)\n",
    "\n",
    "print((a == b).all())\n",
    "print((a == c).all())\n",
    "print(f\"{type(a)} - {a.shape}\")\n",
    "print(f\"{type(b)} - {b.shape}\")\n",
    "print(f\"{type(c)} - {c.shape}\")\n"
   ]
  },
  {
   "cell_type": "code",
   "execution_count": null,
   "metadata": {},
   "outputs": [],
   "source": [
    "def generator(file):\n",
    "    with open(file) as fp:\n",
    "        lines = [i.strip() for i in fp.readlines()]\n",
    "    for i, line in enumerate(lines):\n",
    "        if i>5:\n",
    "            break\n",
    "        yield line\n",
    "\n",
    "\n",
    "g1 = generator(\"data/fixed_easy.txt\")\n",
    "g2 = generator(\"data/fixed_normal.txt\")\n",
    "\n",
    "df = pd.DataFrame(columns=range(768))\n",
    "l = [i for i in tqdm(range(5))]\n",
    "\n",
    "df = pd.DataFrame(l)\n",
    "print(df)\n"
   ]
  }
 ],
 "metadata": {
  "kernelspec": {
   "display_name": "master",
   "language": "python",
   "name": "python3"
  },
  "language_info": {
   "codemirror_mode": {
    "name": "ipython",
    "version": 3
   },
   "file_extension": ".py",
   "mimetype": "text/x-python",
   "name": "python",
   "nbconvert_exporter": "python",
   "pygments_lexer": "ipython3",
   "version": "3.10.8 (main, Oct 13 2022, 21:13:48) [GCC 12.2.0]"
  },
  "orig_nbformat": 4,
  "vscode": {
   "interpreter": {
    "hash": "6f140f8b3d41bfe26436db86396a4a983fe1f68caf3529c53ccd2c476030458a"
   }
  }
 },
 "nbformat": 4,
 "nbformat_minor": 2
}
