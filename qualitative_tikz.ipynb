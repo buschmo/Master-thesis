{
 "cells": [
  {
   "cell_type": "code",
   "execution_count": 4,
   "metadata": {},
   "outputs": [],
   "source": [
    "ATTRIBUTE_DIMENSIONS = {\n",
    "    \"Simplicity\": 0,\n",
    "    \"Tree_depth\": 1,\n",
    "    \"POS\": 2,\n",
    "    \"Length\": 3,\n",
    "    \"TF-IDF\": 4\n",
    "}\n",
    "\n",
    "models = [\n",
    "    \"ModelGermanSampling\",\n",
    "    \"ModelGermanNoRegSampling\",\n",
    "    \"ModelWikiSampling\",\n",
    "    \"ModelWikiNoRegSampling\"\n",
    "]\n",
    "\n",
    "model = models[1]\n",
    "\n",
    "for model in models:\n",
    "    with open(f\"results/{model}.tex\", \"w\") as fp:\n",
    "        # for i in range(5,127):\n",
    "        for i in [50]:\n",
    "            fp.write(\"\\\\begin{figure}\\n    \\\\centering\")\n",
    "\n",
    "            for j, (attr, dim) in enumerate(ATTRIBUTE_DIMENSIONS.items()):\n",
    "                if attr== \"Tree_depth\":\n",
    "                    attr_name= \"Tree Depth\"\n",
    "                else:\n",
    "                    attr_name = attr\n",
    "                fp.write(f\"\\n    \\\\begin{{subfigure}}{{.5\\\\textwidth}}\\n        \\\\resizebox{{\\\\columnwidth}}{{!}}{{\\n            \\\\begin{{tikzpicture}}\\n                \\\\begin{{axis}}[view={{0}}{{90}},colorbar,xlabel={attr_name},ylabel=Dimension {i}]\\n                \\\\addplot3 [\\n                    only marks,\\n                    scatter,\\n                    mark options={{scale=0.6}}\\n                ] table[x={dim}, y={i}, z={attr}] {{{model}.dat}};\\n                \\\\end{{axis}}\\n            \\\\end{{tikzpicture}}\\n        }}\\n    \\\\end{{subfigure}}\")\n",
    "                if j % 2:\n",
    "                    fp.write(\"\\\\\\\\\")\n",
    "                else:\n",
    "                    fp.write(\"%\")\n",
    "            \n",
    "            fp.write(\"\\n\\\\end{figure}\")\n",
    "            # fp.write(s)\n",
    "\n",
    "            fp.write(\"\\n\\n\\n\")"
   ]
  }
 ],
 "metadata": {
  "kernelspec": {
   "display_name": "master",
   "language": "python",
   "name": "python3"
  },
  "language_info": {
   "codemirror_mode": {
    "name": "ipython",
    "version": 3
   },
   "file_extension": ".py",
   "mimetype": "text/x-python",
   "name": "python",
   "nbconvert_exporter": "python",
   "pygments_lexer": "ipython3",
   "version": "3.10.10"
  },
  "orig_nbformat": 4
 },
 "nbformat": 4,
 "nbformat_minor": 2
}
